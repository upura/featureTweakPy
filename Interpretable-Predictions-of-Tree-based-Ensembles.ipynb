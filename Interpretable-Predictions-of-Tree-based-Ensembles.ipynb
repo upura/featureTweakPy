{
 "cells": [
  {
   "cell_type": "markdown",
   "metadata": {},
   "source": [
    "# Interpretable Predictions of Tree-based Ensembles via Actionable Feature Tweaking【KDD 2017】\n",
    "\n",
    "This ipynb is inspired by the following link:  \n",
    "http://setten-qb.hatenablog.com/entry/2017/10/22/232016\n",
    "\n",
    "I fixed some codes and added some explanations:\n",
    "1. Fix `load_iris()` to `datasets.load_iris()` at In [2]\n",
    "1. Fix `rfc.fit(x, y)` to `rfc.fit(x_arr, y_arr)` at In [3]\n",
    "1. Fix `aim_label = 3` to `aim_label = 2` at In [7] and [22]\n",
    "1. Add the usage of feature_tweaking()\n",
    "1. Add featureTweakPy.py to extract functions"
   ]
  },
  {
   "cell_type": "markdown",
   "metadata": {},
   "source": [
    "## Package Import"
   ]
  },
  {
   "cell_type": "code",
   "execution_count": 1,
   "metadata": {},
   "outputs": [],
   "source": [
    "import numpy as np\n",
    "import scipy.stats\n",
    "from sklearn import datasets\n",
    "from sklearn.ensemble import RandomForestClassifier\n",
    "import copy"
   ]
  },
  {
   "cell_type": "markdown",
   "metadata": {},
   "source": [
    "## Dataset Import"
   ]
  },
  {
   "cell_type": "code",
   "execution_count": 2,
   "metadata": {},
   "outputs": [],
   "source": [
    "iris = datasets.load_iris()\n",
    "\n",
    "x_arr = iris['data']\n",
    "mean_x = x_arr.mean(axis=0)\n",
    "std_x = x_arr.std(axis=0)\n",
    "x_arr = scipy.stats.zscore(x_arr)\n",
    "y_arr = iris['target']"
   ]
  },
  {
   "cell_type": "markdown",
   "metadata": {},
   "source": [
    "## Creation of Function"
   ]
  },
  {
   "cell_type": "code",
   "execution_count": 3,
   "metadata": {
    "scrolled": true
   },
   "outputs": [
    {
     "data": {
      "text/plain": [
       "RandomForestClassifier(bootstrap=True, class_weight=None, criterion='gini',\n",
       "            max_depth=None, max_features='auto', max_leaf_nodes=None,\n",
       "            min_impurity_decrease=0.0, min_impurity_split=None,\n",
       "            min_samples_leaf=1, min_samples_split=2,\n",
       "            min_weight_fraction_leaf=0.0, n_estimators=10, n_jobs=1,\n",
       "            oob_score=False, random_state=None, verbose=0,\n",
       "            warm_start=False)"
      ]
     },
     "execution_count": 3,
     "metadata": {},
     "output_type": "execute_result"
    }
   ],
   "source": [
    "rfc = RandomForestClassifier()\n",
    "rfc.fit(x_arr, y_arr)"
   ]
  },
  {
   "cell_type": "markdown",
   "metadata": {},
   "source": [
    "`rfc` contains infomation of each weak classifier. For example `wc = rfc[0]` contains the following one."
   ]
  },
  {
   "cell_type": "code",
   "execution_count": 4,
   "metadata": {
    "scrolled": true
   },
   "outputs": [
    {
     "data": {
      "text/plain": [
       "DecisionTreeClassifier(class_weight=None, criterion='gini', max_depth=None,\n",
       "            max_features='auto', max_leaf_nodes=None,\n",
       "            min_impurity_decrease=0.0, min_impurity_split=None,\n",
       "            min_samples_leaf=1, min_samples_split=2,\n",
       "            min_weight_fraction_leaf=0.0, presort=False,\n",
       "            random_state=1463721801, splitter='best')"
      ]
     },
     "execution_count": 4,
     "metadata": {},
     "output_type": "execute_result"
    }
   ],
   "source": [
    "wc = rfc[0]\n",
    "wc"
   ]
  },
  {
   "cell_type": "markdown",
   "metadata": {},
   "source": [
    "This is information of left child node."
   ]
  },
  {
   "cell_type": "code",
   "execution_count": 5,
   "metadata": {
    "scrolled": true
   },
   "outputs": [
    {
     "data": {
      "text/plain": [
       "array([ 1, -1,  3,  4, -1,  6,  7, -1,  9, -1, -1, 12, 13, 14, -1, 16, -1,\n",
       "       -1, -1, -1, 21, 22, -1, -1, -1])"
      ]
     },
     "execution_count": 5,
     "metadata": {},
     "output_type": "execute_result"
    }
   ],
   "source": [
    "children_left = wc.tree_.children_left\n",
    "children_left"
   ]
  },
  {
   "cell_type": "markdown",
   "metadata": {},
   "source": [
    "Here, `-1` means the node doesn't have a children left node."
   ]
  },
  {
   "cell_type": "code",
   "execution_count": 6,
   "metadata": {},
   "outputs": [
    {
     "data": {
      "text/plain": [
       "array([ 1,  4,  7,  9, 10, 14, 16, 17, 18, 19, 22, 23, 24])"
      ]
     },
     "execution_count": 6,
     "metadata": {},
     "output_type": "execute_result"
    }
   ],
   "source": [
    "leaf_nodes = np.where(children_left == -1)[0]\n",
    "leaf_nodes"
   ]
  },
  {
   "cell_type": "markdown",
   "metadata": {},
   "source": [
    "Now, we want the information of paths that predict positive label. We regard `2` as a positive label."
   ]
  },
  {
   "cell_type": "code",
   "execution_count": 7,
   "metadata": {},
   "outputs": [],
   "source": [
    "class_labels = [0, 1, 2]\n",
    "aim_label = 2"
   ]
  },
  {
   "cell_type": "code",
   "execution_count": 8,
   "metadata": {},
   "outputs": [
    {
     "data": {
      "text/plain": [
       "array([[43.,  0.,  0.],\n",
       "       [ 0., 41.,  0.],\n",
       "       [ 0.,  0.,  1.],\n",
       "       [ 0.,  0.,  1.],\n",
       "       [ 0.,  1.,  0.],\n",
       "       [ 0.,  4.,  0.],\n",
       "       [ 0.,  1.,  0.],\n",
       "       [ 0.,  0.,  1.],\n",
       "       [ 0., 14.,  0.],\n",
       "       [ 0.,  0.,  1.],\n",
       "       [ 0.,  1.,  0.],\n",
       "       [ 0.,  0.,  6.],\n",
       "       [ 0.,  0., 35.]])"
      ]
     },
     "execution_count": 8,
     "metadata": {},
     "output_type": "execute_result"
    }
   ],
   "source": [
    "leaf_values = wc.tree_.value[leaf_nodes].reshape(len(leaf_nodes), len(class_labels))\n",
    "leaf_values"
   ]
  },
  {
   "cell_type": "code",
   "execution_count": 9,
   "metadata": {
    "scrolled": true
   },
   "outputs": [
    {
     "data": {
      "text/plain": [
       "array([ 2,  3,  7,  9, 11, 12])"
      ]
     },
     "execution_count": 9,
     "metadata": {},
     "output_type": "execute_result"
    }
   ],
   "source": [
    "leaf_nodes = np.where(leaf_values[:, aim_label] != 0)[0]\n",
    "leaf_nodes"
   ]
  },
  {
   "cell_type": "markdown",
   "metadata": {},
   "source": [
    "We use one leaf node as a sample."
   ]
  },
  {
   "cell_type": "code",
   "execution_count": 10,
   "metadata": {},
   "outputs": [],
   "source": [
    "leaf_node = leaf_nodes[0]"
   ]
  },
  {
   "cell_type": "markdown",
   "metadata": {},
   "source": [
    "Then, let's identify the path from this node to the root node."
   ]
  },
  {
   "cell_type": "code",
   "execution_count": 11,
   "metadata": {},
   "outputs": [
    {
     "data": {
      "text/plain": [
       "array([ 2, -1, 20,  5, -1, 11,  8, -1, 10, -1, -1, 19, 18, 15, -1, 17, -1,\n",
       "       -1, -1, -1, 24, 23, -1, -1, -1])"
      ]
     },
     "execution_count": 11,
     "metadata": {},
     "output_type": "execute_result"
    }
   ],
   "source": [
    "children_right = wc.tree_.children_right\n",
    "children_right"
   ]
  },
  {
   "cell_type": "code",
   "execution_count": 12,
   "metadata": {},
   "outputs": [
    {
     "data": {
      "text/plain": [
       "array([ 3, -2,  3,  3, -2,  1,  3, -2,  0, -2, -2,  0,  1,  1, -2,  2, -2,\n",
       "       -2, -2, -2,  0,  2, -2, -2, -2])"
      ]
     },
     "execution_count": 12,
     "metadata": {},
     "output_type": "execute_result"
    }
   ],
   "source": [
    "feature = wc.tree_.feature\n",
    "feature"
   ]
  },
  {
   "cell_type": "code",
   "execution_count": 13,
   "metadata": {},
   "outputs": [
    {
     "data": {
      "text/plain": [
       "array([-0.52413893, -2.        ,  0.72485435,  0.19896244, -2.        ,\n",
       "       -0.93486798,  0.3304354 , -2.        , -0.29484183, -2.        ,\n",
       "       -2.        ,  1.4620924 , -0.47206205, -0.70346498, -2.        ,\n",
       "        0.67746007, -2.        , -2.        , -2.        , -2.        ,\n",
       "        0.2504136 ,  0.62059438, -2.        , -2.        , -2.        ])"
      ]
     },
     "execution_count": 13,
     "metadata": {},
     "output_type": "execute_result"
    }
   ],
   "source": [
    "threshold = wc.tree_.threshold\n",
    "threshold"
   ]
  },
  {
   "cell_type": "code",
   "execution_count": 14,
   "metadata": {},
   "outputs": [],
   "source": [
    "child_node = leaf_node\n",
    "parent_node = -100  # initialize\n",
    "parents_left = []\n",
    "parents_right = []\n",
    "while (parent_node != 0):\n",
    "    if (np.where(children_left == child_node)[0].shape == (0, )):\n",
    "        parent_left = -1\n",
    "        parent_right = np.where(\n",
    "            children_right == child_node)[0][0]\n",
    "        parent_node = parent_right\n",
    "    elif (np.where(children_right == child_node)[0].shape == (0, )):\n",
    "        parent_right = -1\n",
    "        parent_left = np.where(children_left == child_node)[0][0]\n",
    "        parent_node = parent_left\n",
    "    parents_left.append(parent_left)\n",
    "    parents_right.append(parent_right)\n",
    "    \"\"\" proccess for next step \"\"\"\n",
    "    child_node = parent_node"
   ]
  },
  {
   "cell_type": "code",
   "execution_count": 15,
   "metadata": {},
   "outputs": [],
   "source": [
    "\"\"\" search the path to the selected leaf node \"\"\"\n",
    "paths = {}\n",
    "for leaf_node in leaf_nodes:\n",
    "    \"\"\" correspond leaf node to left and right parents \"\"\"\n",
    "    child_node = leaf_node\n",
    "    parent_node = -100  # initialize\n",
    "    parents_left = [] \n",
    "    parents_right = [] \n",
    "    while (parent_node != 0):\n",
    "        if (np.where(children_left == child_node)[0].shape == (0, )):\n",
    "            parent_left = -1\n",
    "            parent_right = np.where(\n",
    "                children_right == child_node)[0][0]\n",
    "            parent_node = parent_right\n",
    "        elif (np.where(children_right == child_node)[0].shape == (0, )):\n",
    "            parent_right = -1\n",
    "            parent_left = np.where(children_left == child_node)[0][0]\n",
    "            parent_node = parent_left\n",
    "        parents_left.append(parent_left)\n",
    "        parents_right.append(parent_right)\n",
    "        \"\"\" proccess for next step \"\"\"\n",
    "        child_node = parent_node\n",
    "    # nodes dictionary containing left parents and right parents\n",
    "    paths[leaf_node] = (parents_left, parents_right)"
   ]
  },
  {
   "cell_type": "code",
   "execution_count": 16,
   "metadata": {},
   "outputs": [
    {
     "data": {
      "text/plain": [
       "{2: ([-1], [0]),\n",
       " 3: ([2, -1], [-1, 0]),\n",
       " 7: ([6, 5, -1, 2, -1], [-1, -1, 3, -1, 0]),\n",
       " 9: ([8, -1, 5, -1, 2, -1], [-1, 6, -1, 3, -1, 0]),\n",
       " 11: ([-1, -1, 2, -1], [5, 3, -1, 0]),\n",
       " 12: ([11, -1, -1, 2, -1], [-1, 5, 3, -1, 0])}"
      ]
     },
     "execution_count": 16,
     "metadata": {},
     "output_type": "execute_result"
    }
   ],
   "source": [
    "paths"
   ]
  },
  {
   "cell_type": "markdown",
   "metadata": {},
   "source": [
    "Next, we extract information about branch conditions at the nodes in the path.\n",
    "- features\n",
    "- thresholds\n",
    "- inequality_symbols"
   ]
  },
  {
   "cell_type": "code",
   "execution_count": 17,
   "metadata": {},
   "outputs": [],
   "source": [
    "path_info = {}\n",
    "for i in paths:\n",
    "    node_ids = []  # node ids used in the current node\n",
    "    # inequality symbols used in the current node\n",
    "    inequality_symbols = []\n",
    "    thresholds = []  # thretholds used in the current node\n",
    "    features = []  # features used in the current node\n",
    "    parents_left, parents_right = paths[i]\n",
    "    for idx in range(len(parents_left)):\n",
    "        if (parents_left[idx] != -1):\n",
    "            \"\"\" the child node is the left child of the parent \"\"\"\n",
    "            node_id = parents_left[idx]  # node id\n",
    "            node_ids.append(node_id)\n",
    "            inequality_symbols.append(0)\n",
    "            thresholds.append(threshold[node_id])\n",
    "            features.append(feature[node_id])\n",
    "        elif (parents_right[idx] != -1):\n",
    "            \"\"\" the child node is the right child of the parent \"\"\"\n",
    "            node_id = parents_right[idx]\n",
    "            node_ids.append(node_id)\n",
    "            inequality_symbols.append(1)\n",
    "            thresholds.append(threshold[node_id])\n",
    "            features.append(feature[node_id])\n",
    "        path_info[i] = {'node_id': node_ids,\n",
    "                        'inequality_symbol': inequality_symbols,\n",
    "                        'threshold': thresholds,\n",
    "                        'feature': features}"
   ]
  },
  {
   "cell_type": "code",
   "execution_count": 18,
   "metadata": {},
   "outputs": [
    {
     "data": {
      "text/plain": [
       "{2: {'node_id': [0],\n",
       "  'inequality_symbol': [1],\n",
       "  'threshold': [-0.5241389274597168],\n",
       "  'feature': [3]},\n",
       " 3: {'node_id': [2, 0],\n",
       "  'inequality_symbol': [0, 1],\n",
       "  'threshold': [0.7248543500900269, -0.5241389274597168],\n",
       "  'feature': [3, 3]},\n",
       " 7: {'node_id': [6, 5, 3, 2, 0],\n",
       "  'inequality_symbol': [0, 0, 1, 0, 1],\n",
       "  'threshold': [0.3304353952407837,\n",
       "   -0.9348679780960083,\n",
       "   0.19896243512630463,\n",
       "   0.7248543500900269,\n",
       "   -0.5241389274597168],\n",
       "  'feature': [3, 1, 3, 3, 3]},\n",
       " 9: {'node_id': [8, 6, 5, 3, 2, 0],\n",
       "  'inequality_symbol': [0, 1, 0, 1, 0, 1],\n",
       "  'threshold': [-0.29484182596206665,\n",
       "   0.3304353952407837,\n",
       "   -0.9348679780960083,\n",
       "   0.19896243512630463,\n",
       "   0.7248543500900269,\n",
       "   -0.5241389274597168],\n",
       "  'feature': [0, 3, 1, 3, 3, 3]},\n",
       " 11: {'node_id': [5, 3, 2, 0],\n",
       "  'inequality_symbol': [1, 1, 0, 1],\n",
       "  'threshold': [-0.9348679780960083,\n",
       "   0.19896243512630463,\n",
       "   0.7248543500900269,\n",
       "   -0.5241389274597168],\n",
       "  'feature': [1, 3, 3, 3]},\n",
       " 12: {'node_id': [11, 5, 3, 2, 0],\n",
       "  'inequality_symbol': [0, 1, 1, 0, 1],\n",
       "  'threshold': [1.462092399597168,\n",
       "   -0.9348679780960083,\n",
       "   0.19896243512630463,\n",
       "   0.7248543500900269,\n",
       "   -0.5241389274597168],\n",
       "  'feature': [0, 1, 3, 3, 3]}}"
      ]
     },
     "execution_count": 18,
     "metadata": {},
     "output_type": "execute_result"
    }
   ],
   "source": [
    "path_info"
   ]
  },
  {
   "cell_type": "markdown",
   "metadata": {},
   "source": [
    "Here, the proccess is functionized as follows:"
   ]
  },
  {
   "cell_type": "code",
   "execution_count": 19,
   "metadata": {},
   "outputs": [],
   "source": [
    "def search_path(estimator, class_labels, aim_label):\n",
    "    \"\"\"\n",
    "    return path index list containing [{leaf node id, inequality symbol, threshold, feature index}].\n",
    "    estimator: decision tree\n",
    "    maxj: the number of selected leaf nodes\n",
    "    \"\"\"\n",
    "    \"\"\" select leaf nodes whose outcome is aim_label \"\"\"\n",
    "    children_left = estimator.tree_.children_left  # information of left child node\n",
    "    children_right = estimator.tree_.children_right\n",
    "    feature = estimator.tree_.feature\n",
    "    threshold = estimator.tree_.threshold\n",
    "    # leaf nodes ID\n",
    "    leaf_nodes = np.where(children_left == -1)[0]\n",
    "    # outcomes of leaf nodes\n",
    "    leaf_values = estimator.tree_.value[leaf_nodes].reshape(len(leaf_nodes), len(class_labels))\n",
    "    # select the leaf nodes whose outcome is aim_label\n",
    "    leaf_nodes = np.where(leaf_values[:, aim_label] != 0)[0]\n",
    "    \"\"\" search the path to the selected leaf node \"\"\"\n",
    "    paths = {}\n",
    "    for leaf_node in leaf_nodes:\n",
    "        \"\"\" correspond leaf node to left and right parents \"\"\"\n",
    "        child_node = leaf_node\n",
    "        parent_node = -100  # initialize\n",
    "        parents_left = [] \n",
    "        parents_right = [] \n",
    "        while (parent_node != 0):\n",
    "            if (np.where(children_left == child_node)[0].shape == (0, )):\n",
    "                parent_left = -1\n",
    "                parent_right = np.where(\n",
    "                    children_right == child_node)[0][0]\n",
    "                parent_node = parent_right\n",
    "            elif (np.where(children_right == child_node)[0].shape == (0, )):\n",
    "                parent_right = -1\n",
    "                parent_left = np.where(children_left == child_node)[0][0]\n",
    "                parent_node = parent_left\n",
    "            parents_left.append(parent_left)\n",
    "            parents_right.append(parent_right)\n",
    "            \"\"\" for next step \"\"\"\n",
    "            child_node = parent_node\n",
    "        # nodes dictionary containing left parents and right parents\n",
    "        paths[leaf_node] = (parents_left, parents_right)\n",
    "        \n",
    "    path_info = {}\n",
    "    for i in paths:\n",
    "        node_ids = []  # node ids used in the current node\n",
    "        # inequality symbols used in the current node\n",
    "        inequality_symbols = []\n",
    "        thresholds = []  # thretholds used in the current node\n",
    "        features = []  # features used in the current node\n",
    "        parents_left, parents_right = paths[i]\n",
    "        for idx in range(len(parents_left)):\n",
    "            if (parents_left[idx] != -1):\n",
    "                \"\"\" the child node is the left child of the parent \"\"\"\n",
    "                node_id = parents_left[idx]  # node id\n",
    "                node_ids.append(node_id)\n",
    "                inequality_symbols.append(0)\n",
    "                thresholds.append(threshold[node_id])\n",
    "                features.append(feature[node_id])\n",
    "            elif (parents_right[idx] != -1):\n",
    "                \"\"\" the child node is the right child of the parent \"\"\"\n",
    "                node_id = parents_right[idx]\n",
    "                node_ids.append(node_id)\n",
    "                inequality_symbols.append(1)\n",
    "                thresholds.append(threshold[node_id])\n",
    "                features.append(feature[node_id])\n",
    "            path_info[i] = {'node_id': node_ids,\n",
    "                            'inequality_symbol': inequality_symbols,\n",
    "                            'threshold': thresholds,\n",
    "                            'feature': features}\n",
    "    return path_info"
   ]
  },
  {
   "cell_type": "markdown",
   "metadata": {},
   "source": [
    "Next step is the culculation of ε-satisfactory instance"
   ]
  },
  {
   "cell_type": "code",
   "execution_count": 20,
   "metadata": {},
   "outputs": [],
   "source": [
    "def esatisfactory_instance(x, epsilon, path_info):\n",
    "    \"\"\"\n",
    "    return the epsilon satisfactory instance of x.\n",
    "    \"\"\"\n",
    "    esatisfactory = copy.deepcopy(x)\n",
    "    for i in range(len(path_info['feature'])):\n",
    "        # feature index\n",
    "        feature_idx = path_info['feature'][i]\n",
    "        # threshold used in the current node\n",
    "        threshold_value = path_info['threshold'][i]\n",
    "        # inequality symbol\n",
    "        inequality_symbol = path_info['inequality_symbol'][i]\n",
    "        if inequality_symbol == 0:\n",
    "            esatisfactory[feature_idx] = threshold_value - epsilon\n",
    "        elif inequality_symbol == 1:\n",
    "            esatisfactory[feature_idx] = threshold_value + epsilon\n",
    "        else:\n",
    "            print('something wrong')\n",
    "    return esatisfactory"
   ]
  },
  {
   "cell_type": "markdown",
   "metadata": {},
   "source": [
    "Finally, the follwing is the implementation of the proposed method using 2 functions."
   ]
  },
  {
   "cell_type": "code",
   "execution_count": 21,
   "metadata": {},
   "outputs": [],
   "source": [
    "def feature_tweaking(ensemble_classifier, x, class_labels, aim_label, epsilon, cost_func):\n",
    "    \"\"\"\n",
    "    This function return the active feature tweaking vector.\n",
    "    x: feature vector\n",
    "    class_labels: list containing the all class labels\n",
    "    aim_label: the label which we want to transform the label of x to\n",
    "    \"\"\"\n",
    "    \"\"\" initialize \"\"\"\n",
    "    x_out = copy.deepcopy(x)  # initialize output\n",
    "    delta_mini = 10**3  # initialize cost\n",
    "    for estimator in ensemble_classifier:\n",
    "        if (ensemble_classifier.predict(x.reshape(1, -1)) == estimator.predict(x.reshape(1, -1))\n",
    "            and estimator.predict(x.reshape(1, -1) != aim_label)):\n",
    "            paths_info = search_path(estimator, class_labels, aim_label)\n",
    "            for key in paths_info:\n",
    "                \"\"\" generate epsilon-satisfactory instance \"\"\"\n",
    "                path_info = paths_info[key]\n",
    "                es_instance = esatisfactory_instance(x, epsilon, path_info)\n",
    "                if estimator.predict(es_instance.reshape(1, -1)) == aim_label:\n",
    "                    if cost_func(x, es_instance) < delta_mini:\n",
    "                        x_out = es_instance\n",
    "                        delta_mini = cost_func(x, es_instance)\n",
    "            else:\n",
    "                continue\n",
    "    return x_out"
   ]
  },
  {
   "cell_type": "markdown",
   "metadata": {},
   "source": [
    "## How to Use"
   ]
  },
  {
   "cell_type": "markdown",
   "metadata": {},
   "source": [
    "First of all, we need settings of hyper parameters."
   ]
  },
  {
   "cell_type": "code",
   "execution_count": 22,
   "metadata": {},
   "outputs": [],
   "source": [
    "class_labels = [0, 1, 2]  # Same as In [7]\n",
    "aim_label = 2 # Same as In [7]\n",
    "epsilon = 0.1"
   ]
  },
  {
   "cell_type": "markdown",
   "metadata": {},
   "source": [
    "As cost function, I use Euclidean distance."
   ]
  },
  {
   "cell_type": "code",
   "execution_count": 23,
   "metadata": {},
   "outputs": [],
   "source": [
    "def cost_func(a, b):\n",
    "    return np.linalg.norm(a-b)"
   ]
  },
  {
   "cell_type": "markdown",
   "metadata": {},
   "source": [
    "### Random Forest Prediction"
   ]
  },
  {
   "cell_type": "code",
   "execution_count": 24,
   "metadata": {
    "scrolled": true
   },
   "outputs": [
    {
     "data": {
      "text/plain": [
       "RandomForestClassifier(bootstrap=True, class_weight=None, criterion='gini',\n",
       "            max_depth=None, max_features='auto', max_leaf_nodes=None,\n",
       "            min_impurity_decrease=0.0, min_impurity_split=None,\n",
       "            min_samples_leaf=1, min_samples_split=2,\n",
       "            min_weight_fraction_leaf=0.0, n_estimators=10, n_jobs=1,\n",
       "            oob_score=False, random_state=None, verbose=0,\n",
       "            warm_start=False)"
      ]
     },
     "execution_count": 24,
     "metadata": {},
     "output_type": "execute_result"
    }
   ],
   "source": [
    "rfc = RandomForestClassifier()\n",
    "rfc.fit(x_arr, y_arr)"
   ]
  },
  {
   "cell_type": "markdown",
   "metadata": {},
   "source": [
    "### Using feature_tweaking()"
   ]
  },
  {
   "cell_type": "code",
   "execution_count": 25,
   "metadata": {
    "scrolled": true
   },
   "outputs": [
    {
     "data": {
      "text/plain": [
       "array([-0.90068117,  1.03205722, -1.3412724 , -1.31297673])"
      ]
     },
     "execution_count": 25,
     "metadata": {},
     "output_type": "execute_result"
    }
   ],
   "source": [
    "x = x_arr[0]\n",
    "x"
   ]
  },
  {
   "cell_type": "code",
   "execution_count": 26,
   "metadata": {
    "scrolled": false
   },
   "outputs": [
    {
     "data": {
      "text/plain": [
       "array([-0.90068117,  1.03205722,  0.77746007, -0.42413893])"
      ]
     },
     "execution_count": 26,
     "metadata": {},
     "output_type": "execute_result"
    }
   ],
   "source": [
    "x_new = feature_tweaking(rfc, x, class_labels, aim_label, epsilon, cost_func)\n",
    "x_new"
   ]
  },
  {
   "cell_type": "code",
   "execution_count": null,
   "metadata": {},
   "outputs": [],
   "source": []
  }
 ],
 "metadata": {
  "kernelspec": {
   "display_name": "Python 3",
   "language": "python",
   "name": "python3"
  },
  "language_info": {
   "codemirror_mode": {
    "name": "ipython",
    "version": 3
   },
   "file_extension": ".py",
   "mimetype": "text/x-python",
   "name": "python",
   "nbconvert_exporter": "python",
   "pygments_lexer": "ipython3",
   "version": "3.6.3"
  }
 },
 "nbformat": 4,
 "nbformat_minor": 2
}
